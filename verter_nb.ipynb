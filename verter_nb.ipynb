{
 "cells": [
  {
   "metadata": {
    "ExecuteTime": {
     "end_time": "2025-03-16T16:38:04.287353Z",
     "start_time": "2025-03-16T16:38:04.282238Z"
    }
   },
   "cell_type": "code",
   "source": [
    "from langchain.text_splitter import RecursiveCharacterTextSplitter\n",
    "from langchain_community.embeddings import HuggingFaceEmbeddings\n",
    "from langchain_community.vectorstores import Chroma\n",
    "from langchain_community.document_loaders import PyPDFLoader\n",
    "from langchain.chains import RetrievalQA\n",
    "from langchain_core.documents import Document\n",
    "from langchain_openai import ChatOpenAI\n",
    "from dotenv import load_dotenv\n",
    "\n",
    "load_dotenv()"
   ],
   "id": "b3a607f993a6ded8",
   "outputs": [
    {
     "data": {
      "text/plain": [
       "True"
      ]
     },
     "execution_count": 2,
     "metadata": {},
     "output_type": "execute_result"
    }
   ],
   "execution_count": 2
  },
  {
   "metadata": {
    "ExecuteTime": {
     "end_time": "2025-03-16T16:38:09.464038Z",
     "start_time": "2025-03-16T16:38:09.173409Z"
    }
   },
   "cell_type": "code",
   "source": [
    "\n",
    "llm = ChatOpenAI(\n",
    "        model=\"gpt-4o-mini\",\n",
    "        #temperature=0,\n",
    "        #max_tokens=None,\n",
    "        #timeout=None,\n",
    "        #max_retries=2,\n",
    "        # api_key=\"...\",  # if you prefer to pass api key in directly instaed of using env vars\n",
    "        # base_url=\"...\",\n",
    "        # organization=\"...\",\n",
    "        # other params...\n",
    "    )\n"
   ],
   "id": "890e6161946e21f3",
   "outputs": [],
   "execution_count": 3
  },
  {
   "metadata": {
    "ExecuteTime": {
     "end_time": "2025-03-16T16:44:25.686878Z",
     "start_time": "2025-03-16T16:44:23.918718Z"
    }
   },
   "cell_type": "code",
   "source": [
    "\n",
    "loader = PyPDFLoader(\"CleanCode.pdf\")\n",
    "data = loader.load()\n"
   ],
   "id": "9000af2b8dc71c0d",
   "outputs": [],
   "execution_count": 16
  },
  {
   "metadata": {
    "ExecuteTime": {
     "end_time": "2025-03-16T16:44:29.137898Z",
     "start_time": "2025-03-16T16:44:29.133761Z"
    }
   },
   "cell_type": "code",
   "source": [
    "text = \"\\n\".join([doc.page_content for doc in data])\n",
    "print(len(text))"
   ],
   "id": "9250f1261076ea36",
   "outputs": [
    {
     "name": "stdout",
     "output_type": "stream",
     "text": [
      "895495\n"
     ]
    }
   ],
   "execution_count": 17
  },
  {
   "metadata": {
    "ExecuteTime": {
     "end_time": "2025-03-16T17:06:05.564945Z",
     "start_time": "2025-03-16T17:06:05.550714Z"
    }
   },
   "cell_type": "code",
   "source": [
    "\n",
    "##Text splitter\n",
    "text_splitter = RecursiveCharacterTextSplitter(\n",
    "      chunk_size=256,\n",
    "       chunk_overlap=50,\n",
    "       length_function=len\n",
    "    )\n",
    "chunks = text_splitter.split_text(text)\n",
    "for i,chunk in enumerate(chunks[:3]):\n",
    "    print(f\"   Chunk {i+1}: {chunk}\")"
   ],
   "id": "9bf18b23c3f3a207",
   "outputs": [
    {
     "name": "stdout",
     "output_type": "stream",
     "text": [
      "   Chunk 1: Clean Code\n",
      "Robert C. Martin Series\n",
      "The mission of this series is to improve the state of the art of software craftsmanship. \n",
      "The books in this series are technical, pragmatic, and substantial. The authors are\n",
      "   Chunk 2: highly experienced craftsmen and professionals dedicated to writing about what \n",
      "actually works in practice, as opposed to what might work in theory. You will read \n",
      "about what the author has done, not what he thinks you should do. If the book is\n",
      "   Chunk 3: about programming, there will be lots of code. If the book is about managing, there \n",
      "will be lots of case studies from real projects. \n",
      "These are the books that all serious practitioners will have on their bookshelves.\n"
     ]
    }
   ],
   "execution_count": 29
  },
  {
   "metadata": {
    "ExecuteTime": {
     "end_time": "2025-03-16T17:06:11.937780Z",
     "start_time": "2025-03-16T17:06:09.149373Z"
    }
   },
   "cell_type": "code",
   "source": [
    "\n",
    "\n",
    "emb_llm = HuggingFaceEmbeddings(model_name=\"sentence-transformers/all-MiniLM-L6-v2\")"
   ],
   "id": "24752a1e63e01265",
   "outputs": [],
   "execution_count": 30
  },
  {
   "metadata": {
    "ExecuteTime": {
     "end_time": "2025-03-16T17:06:32.125816Z",
     "start_time": "2025-03-16T17:06:12.673135Z"
    }
   },
   "cell_type": "code",
   "source": [
    "\n",
    "##vector db\n",
    "vectordb = Chroma.from_texts(chunks, emb_llm)"
   ],
   "id": "707a067a983ed466",
   "outputs": [],
   "execution_count": 31
  },
  {
   "metadata": {
    "ExecuteTime": {
     "end_time": "2025-03-16T17:28:14.477692Z",
     "start_time": "2025-03-16T17:28:14.474089Z"
    }
   },
   "cell_type": "code",
   "source": [
    "\n",
    "##retriver\n",
    "retriever = vectordb.as_retriever(search_kwargs={'k': 10})"
   ],
   "id": "fbf9d243ee422186",
   "outputs": [],
   "execution_count": 46
  },
  {
   "metadata": {
    "ExecuteTime": {
     "end_time": "2025-03-16T17:28:17.255814Z",
     "start_time": "2025-03-16T17:28:17.235815Z"
    }
   },
   "cell_type": "code",
   "source": [
    "query = \"What is Clean Code\"\n",
    "### QA Chain\n",
    "\n",
    "from_vdb =  retriever.invoke(query);\n",
    "from_vdb"
   ],
   "id": "80a99b297d06c3e3",
   "outputs": [
    {
     "data": {
      "text/plain": [
       "[Document(metadata={}, page_content='The Art of Clean Code?\\nLet’ s say you believe that messy code is a signiﬁcant impediment. Let’ s say that you accept\\nthat the only way to go fast is to keep your code clean. Then you must ask yourself: “How'),\n",
       " Document(metadata={}, page_content='detail, what I and my compatriots think about\\nclean code. We will tell you what we think makes\\na clean variable name, a clean function, a clean\\nclass, etc. We will present these opinions as abso-\\nlutes, and we will not apologize for our stridence.'),\n",
       " Document(metadata={}, page_content='Indeed, that value system has been the goal, and the topic, of this book. Clean code is\\nnot written by following a set of rules. Y ou don’t become a software craftsman by learn-'),\n",
       " Document(metadata={}, page_content='That’ s what makes clean code for me.\\nHere, in a few short paragraphs, Ron has summarized the contents of this book. No\\nduplication, one thing, expressiveness, tiny abstractions. Everything is there. \\nWard Cunningham, inventor of Wiki,'),\n",
       " Document(metadata={}, page_content='ciples, patterns, and practices of writing clean code. There is quite a bit of code in these\\nchapters, and they will be challenging to read. They’ll prepare you for the second section'),\n",
       " Document(metadata={}, page_content='Clean code can be read, and enhanced by a\\ndeveloper other than its original author. It has\\nunit and acceptance tests. It has meaningful\\nnames. It provides one way rather than many\\nways for doing one thing. It has minimal depen-'),\n",
       " Document(metadata={}, page_content='tion to the expressiveness of code statements and the functions they comprise, we still\\ndon’t have clean code until we’ve paid attention to higher levels of code organization. Let’ s\\ntalk about clean classes.\\n136 Chapter 10: Classes\\nClass Organization'),\n",
       " Document(metadata={}, page_content='7The Total Cost of Owning a Mess\\nWriting clean code requires the disciplined use of a myriad little techniques applied\\nthrough a painstakingly acquired sense of “cleanliness.” This “code-sense” is the key.'),\n",
       " Document(metadata={}, page_content='Clean Code\\nRobert C. Martin Series\\nThe mission of this series is to improve the state of the art of software craftsmanship. \\nThe books in this series are technical, pragmatic, and substantial. The authors are'),\n",
       " Document(metadata={}, page_content='What Is Clean Code?\\nThere are probably as many deﬁnitions as there are programmers. So I asked some very\\nwell-known and deeply experienced programmers what they thought. \\nBjarne Stroustrup, inventor of C++ \\nand author of The C++ Programming \\nLanguage'),\n",
       " Document(metadata={}, page_content='2 Chapter 1: Clean Code\\nThis is a book about good programming. It is ﬁlled with code. We are going to look at\\ncode from every different direction. We’ll look down at it from the top, up at it from the'),\n",
       " Document(metadata={}, page_content='In short, a programmer who writes clean code is an artist who can take a blank screen\\nthrough a series of transformations until it is an elegantly coded system.\\nWhat Is Clean Code?'),\n",
       " Document(metadata={}, page_content='What Is Clean Code?..........................................................................7\\nSchools of Thought..............................................................................12'),\n",
       " Document(metadata={}, page_content='Effectively with Legacy Code\\nI could list all of the qualities that I notice in\\nclean code, but there is one overarching quality\\nthat leads to all of them. Clean code always\\nlooks like it was written by someone who cares.'),\n",
       " Document(metadata={}, page_content='One word: care. That’ s really the topic of\\nthis book. Perhaps an appropriate subtitle\\nwould be How to Care for Code.\\nMichael hit it on the head. Clean code is\\ncode that has been taken care of. Someone has taken the time to keep it simple and orderly.'),\n",
       " Document(metadata={}, page_content='too much, it has muddled intent and ambiguity of purpose. Clean code is focused. Each\\nfunction, each class, each module exposes a single-minded attitude that remains entirely\\nundistracted, and unpolluted, by the surrounding details.'),\n",
       " Document(metadata={}, page_content='that says more clearly what it does, and some submethods saying how it is done.\\nDuplication and expressiveness take me a very long way into what I consider clean\\ncode, and improving dirty code with just these two things in mind can make a huge differ-'),\n",
       " Document(metadata={}, page_content='Coding is no different. We could write down all the “feel good” principles of clean\\ncode and then trust you to do the work (in other words, let you fall down when you get on'),\n",
       " Document(metadata={}, page_content='do I write clean code?” It’ s no good trying to write clean code if you don’t know what it\\nmeans for code to be clean! \\nThe bad news is that writing clean code is a lot like painting a picture. Most of us'),\n",
       " Document(metadata={}, page_content='Grady Booch, author of Object\\nOriented Analysis and Design with \\nApplications\\nClean code is simple and direct. Clean code\\nreads like well-written prose. Clean code never\\nobscures the designer’ s intent but rather is full')]"
      ]
     },
     "execution_count": 47,
     "metadata": {},
     "output_type": "execute_result"
    }
   ],
   "execution_count": 47
  },
  {
   "metadata": {
    "ExecuteTime": {
     "end_time": "2025-03-16T17:28:28.284345Z",
     "start_time": "2025-03-16T17:28:26.404345Z"
    }
   },
   "cell_type": "code",
   "source": [
    "\n",
    "qa = RetrievalQA.from_chain_type(llm=llm,\n",
    "                                     chain_type=\"stuff\",\n",
    "                                     retriever=retriever,\n",
    "                                     return_source_documents=False)\n",
    "response = qa.invoke(query)\n",
    "response['result']\n",
    "\n",
    "\n",
    "# Create Gradio interface\n",
    "# rag_application = gr.Interface(\n",
    "#     fn=retriever_qa,\n",
    "#     flagging_mode=\"never\",\n",
    "#     inputs=[\n",
    "#         gr.File(label=\"Upload PDF File\", file_count=\"single\", file_types=['.pdf'], type=\"filepath\"),\n",
    "#         # Drag and drop file upload\n",
    "#         gr.Textbox(label=\"Input Query\", lines=2, placeholder=\"Type your question here...\")\n",
    "#     ],\n",
    "#     outputs=gr.Textbox(label=\"Output\"),\n",
    "#     title=\"RAG Chatbot\",\n",
    "#     description=\"Upload a PDF document and ask any question. The chatbot will try to answer using the provided document.\"\n",
    "# )\n",
    "#\n",
    "# rag_application.launch(server_name=\"127.0.0.1\", server_port=7860)\n",
    "\n"
   ],
   "id": "7cdc3176675dc088",
   "outputs": [
    {
     "data": {
      "text/plain": [
       "'The text does not provide specific principles of clean code but emphasizes that clean code has certain qualities such as being readable, maintainable, and organized. It mentions characteristics like meaningful names, minimal dependencies, and a focus on expressiveness and simplicity. It also highlights the idea that writing clean code requires care and discipline. For a comprehensive list of principles, you may need to refer to additional resources or literature on the topic.'"
      ]
     },
     "execution_count": 48,
     "metadata": {},
     "output_type": "execute_result"
    }
   ],
   "execution_count": 48
  },
  {
   "metadata": {},
   "cell_type": "code",
   "outputs": [],
   "execution_count": null,
   "source": "",
   "id": "697702dc3c790227"
  }
 ],
 "metadata": {
  "kernelspec": {
   "name": "python3",
   "language": "python",
   "display_name": "Python 3 (ipykernel)"
  }
 },
 "nbformat": 5,
 "nbformat_minor": 9
}
